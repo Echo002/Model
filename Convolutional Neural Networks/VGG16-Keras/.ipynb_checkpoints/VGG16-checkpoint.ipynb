{
 "cells": [
  {
   "cell_type": "code",
   "execution_count": 8,
   "metadata": {
    "ExecuteTime": {
     "end_time": "2018-12-28T09:58:48.522767Z",
     "start_time": "2018-12-28T09:58:48.516783Z"
    }
   },
   "outputs": [],
   "source": [
    "import keras\n",
    "from keras.models import Sequential\n",
    "from keras.layers import Dense, Activation, Dropout, Flatten\n",
    "from keras.layers import Conv2D, MaxPool2D\n",
    "from keras.utils import plot_model"
   ]
  },
  {
   "cell_type": "code",
   "execution_count": 9,
   "metadata": {
    "ExecuteTime": {
     "end_time": "2018-12-28T09:58:49.225955Z",
     "start_time": "2018-12-28T09:58:49.220901Z"
    }
   },
   "outputs": [],
   "source": [
    "# 使用Sequential来搭建模型\n",
    "\n",
    "# 定義輸入\n",
    "input_shape = (224, 224, 3) # RGB影像224x224 (height, width, channel)\n",
    "\n",
    "# 使用'序貫模型(Sequential)來定義\n",
    "model = Sequential(name='vgg16-sequential')"
   ]
  },
  {
   "cell_type": "code",
   "execution_count": 10,
   "metadata": {
    "ExecuteTime": {
     "end_time": "2018-12-28T09:58:52.589894Z",
     "start_time": "2018-12-28T09:58:52.204924Z"
    }
   },
   "outputs": [
    {
     "name": "stdout",
     "output_type": "stream",
     "text": [
      "_________________________________________________________________\n",
      "Layer (type)                 Output Shape              Param #   \n",
      "=================================================================\n",
      "block1_conv1 (Conv2D)        (None, 224, 224, 32)      896       \n",
      "_________________________________________________________________\n",
      "block1_conv2 (Conv2D)        (None, 224, 224, 64)      18496     \n",
      "_________________________________________________________________\n",
      "block1_pool (MaxPooling2D)   (None, 112, 112, 64)      0         \n",
      "_________________________________________________________________\n",
      "block2_conv1 (Conv2D)        (None, 112, 112, 128)     73856     \n",
      "_________________________________________________________________\n",
      "block2_conv2 (Conv2D)        (None, 112, 112, 128)     147584    \n",
      "_________________________________________________________________\n",
      "block2_pool (MaxPooling2D)   (None, 56, 56, 128)       0         \n",
      "_________________________________________________________________\n",
      "block3_conv1 (Conv2D)        (None, 56, 56, 256)       295168    \n",
      "_________________________________________________________________\n",
      "block3_conv2 (Conv2D)        (None, 56, 56, 256)       590080    \n",
      "_________________________________________________________________\n",
      "block3_conv3 (Conv2D)        (None, 56, 56, 256)       590080    \n",
      "_________________________________________________________________\n",
      "block3_pool (MaxPooling2D)   (None, 28, 28, 256)       0         \n",
      "_________________________________________________________________\n",
      "block4_conv1 (Conv2D)        (None, 28, 28, 512)       1180160   \n",
      "_________________________________________________________________\n",
      "block4_conv2 (Conv2D)        (None, 28, 28, 512)       2359808   \n",
      "_________________________________________________________________\n",
      "block4_conv3 (Conv2D)        (None, 28, 28, 512)       2359808   \n",
      "_________________________________________________________________\n",
      "block4_pool (MaxPooling2D)   (None, 14, 14, 512)       0         \n",
      "_________________________________________________________________\n",
      "block5_conv1 (Conv2D)        (None, 14, 14, 512)       2359808   \n",
      "_________________________________________________________________\n",
      "block5_conv2 (Conv2D)        (None, 14, 14, 512)       2359808   \n",
      "_________________________________________________________________\n",
      "block5_conv3 (Conv2D)        (None, 14, 14, 512)       2359808   \n",
      "_________________________________________________________________\n",
      "block5_pool (MaxPooling2D)   (None, 7, 7, 512)         0         \n",
      "_________________________________________________________________\n",
      "flatten (Flatten)            (None, 25088)             0         \n",
      "_________________________________________________________________\n",
      "fc1 (Dense)                  (None, 4096)              102764544 \n",
      "_________________________________________________________________\n",
      "fc2 (Dense)                  (None, 4096)              16781312  \n",
      "_________________________________________________________________\n",
      "predictions (Dense)          (None, 1000)              4097000   \n",
      "=================================================================\n",
      "Total params: 138,338,216\n",
      "Trainable params: 138,338,216\n",
      "Non-trainable params: 0\n",
      "_________________________________________________________________\n"
     ]
    }
   ],
   "source": [
    "model.add(Conv2D(32, (3, 3), padding='same', activation='relu', input_shape=input_shape, name='block1_conv1'))\n",
    "model.add(Conv2D(64, (3, 3), padding='same', activation='relu', name='block1_conv2'))\n",
    "model.add(MaxPool2D((2, 2), strides=(2, 2), name='block1_pool'))\n",
    "\n",
    "model.add(Conv2D(128, (3, 3), padding='same', activation='relu', name='block2_conv1'))\n",
    "model.add(Conv2D(128, (3, 3), padding='same', activation='relu', name='block2_conv2'))\n",
    "model.add(MaxPool2D((2, 2), strides=(2, 2), name='block2_pool'))\n",
    "\n",
    "model.add(Conv2D(256, (3, 3), padding='same', activation='relu', name='block3_conv1'))\n",
    "model.add(Conv2D(256, (3, 3), padding='same', activation='relu', name='block3_conv2'))\n",
    "model.add(Conv2D(256, (3, 3), padding='same', activation='relu', name='block3_conv3'))\n",
    "model.add(MaxPool2D((2, 2), strides=(2, 2), name='block3_pool'))\n",
    "\n",
    "model.add(Conv2D(512, (3, 3), padding='same', activation='relu', name='block4_conv1'))\n",
    "model.add(Conv2D(512, (3, 3), padding='same', activation='relu', name='block4_conv2'))\n",
    "model.add(Conv2D(512, (3, 3), padding='same', activation='relu', name='block4_conv3'))\n",
    "model.add(MaxPool2D((2, 2), strides=(2, 2), name='block4_pool'))\n",
    "\n",
    "model.add(Conv2D(512, (3, 3), padding='same', activation='relu', name='block5_conv1'))\n",
    "model.add(Conv2D(512, (3, 3), padding='same', activation='relu', name='block5_conv2'))\n",
    "model.add(Conv2D(512, (3, 3), padding='same', activation='relu', name='block5_conv3'))\n",
    "model.add(MaxPool2D((2, 2), strides=(2, 2), name='block5_pool'))\n",
    "\n",
    "model.add(Flatten(name='flatten'))\n",
    "model.add(Dense(4096, activation='relu', name='fc1'))\n",
    "model.add(Dense(4096, activation='relu', name='fc2'))\n",
    "model.add(Dense(1000, activation='softmax', name='predictions'))\n",
    "\n",
    "model.summary()"
   ]
  },
  {
   "cell_type": "code",
   "execution_count": null,
   "metadata": {},
   "outputs": [],
   "source": []
  }
 ],
 "metadata": {
  "kernelspec": {
   "display_name": "Python 3",
   "language": "python",
   "name": "python3"
  },
  "language_info": {
   "codemirror_mode": {
    "name": "ipython",
    "version": 3
   },
   "file_extension": ".py",
   "mimetype": "text/x-python",
   "name": "python",
   "nbconvert_exporter": "python",
   "pygments_lexer": "ipython3",
   "version": "3.6.2"
  }
 },
 "nbformat": 4,
 "nbformat_minor": 2
}
