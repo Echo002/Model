{
 "cells": [
  {
   "cell_type": "code",
   "execution_count": null,
   "metadata": {
    "ExecuteTime": {
     "end_time": "2018-12-16T12:48:22.479879Z",
     "start_time": "2018-12-16T12:48:13.246873Z"
    }
   },
   "outputs": [],
   "source": [
    "# 这里是AlexNet使用keras实现\n",
    "# DataSet Cat-vs-Dog\n",
    "import os, shutil, random, glob, sys\n",
    "import cv2\n",
    "import numpy as np\n",
    "import pandas as pd\n",
    "\n",
    "import keras\n",
    "from keras.datasets import cifar10\n",
    "from keras.optimizers import SGD\n",
    "from keras.preprocessing.image import ImageDataGenerator\n",
    "from keras.models import Sequential\n",
    "from keras.layers import Dense, Dropout, Activation, Flatten\n",
    "from keras.layers import Conv2D, MaxPooling2D, ZeroPadding2D, BatchNormalization\n",
    "import matplotlib.pyplot as plt"
   ]
  },
  {
   "cell_type": "code",
   "execution_count": null,
   "metadata": {
    "ExecuteTime": {
     "end_time": "2018-12-16T13:08:35.110953Z",
     "start_time": "2018-12-16T13:08:35.097988Z"
    }
   },
   "outputs": [],
   "source": [
    "resize = 224\n",
    "def load_data():\n",
    "    imgs = os.listdir(r\"E:\\Code\\DeepLearning\\Model\\NeuralNetwork\\CNN\\Keras\\01 CNN\\01 AlexNet\\train\")\n",
    "    num = len(imgs)\n",
    "    train_data = np.empty((500, resize, resize, 3), dtype=\"int32\")\n",
    "    train_label = np.empty((500, ), dtype=\"int32\")\n",
    "    test_data = np.empty((500, resize, resize, 3), dtype=\"int32\")\n",
    "    test_label = np.empty((500, ), dtype=\"int32\")\n",
    "    for i in range(500):\n",
    "        if i % 2:\n",
    "            train_data[i] = cv2.resize(cv2.imread('./train/' + 'dog.' + str(i) + '.jpg'), (resize, resize))\n",
    "            train_label[i] = 1\n",
    "        else:\n",
    "            train_data[i] = cv2.resize(cv2.imread('./train/' + 'cat.' + str(i) + '.jpg'), (resize, resize))\n",
    "            train_label[i] = 0\n",
    "    for i in range(500, 1000):\n",
    "        if i % 2:\n",
    "            test_data[i-500] = cv2.resize(cv2.imread('./train/' + 'dog.' + str(i) + '.jpg'), (resize, resize))\n",
    "            test_label[i-500] = 1\n",
    "        else:\n",
    "            test_data[i-500] = cv2.resize(cv2.imread('./train/' + 'cat.' + str(i) + '.jpg'), (resize, resize))\n",
    "            test_label[i-500] = 0\n",
    "    return train_data, train_label, test_data, test_label"
   ]
  },
  {
   "cell_type": "code",
   "execution_count": null,
   "metadata": {
    "ExecuteTime": {
     "end_time": "2018-12-16T13:08:41.781558Z",
     "start_time": "2018-12-16T13:08:36.127272Z"
    }
   },
   "outputs": [],
   "source": [
    "train_data, train_label, test_data, test_label = load_data()\n",
    "train_data, test_data = train_data.astype('float32'), test_data.astype('float32')\n",
    "train_data, test_data = train_data/255, test_data/255"
   ]
  },
  {
   "cell_type": "code",
   "execution_count": null,
   "metadata": {
    "ExecuteTime": {
     "end_time": "2018-12-16T14:04:25.089530Z",
     "start_time": "2018-12-16T14:04:24.963867Z"
    },
    "scrolled": true
   },
   "outputs": [],
   "source": [
    "img = train_data[0]\n",
    "img = cv2.cvtColor(img,cv2.COLOR_BGR2RGB)\n",
    "plt.imshow(img)\n",
    "plt.axis(\"off\")\n",
    "plt.show()"
   ]
  },
  {
   "cell_type": "code",
   "execution_count": null,
   "metadata": {
    "ExecuteTime": {
     "end_time": "2018-12-16T13:25:41.223639Z",
     "start_time": "2018-12-16T13:25:41.207682Z"
    }
   },
   "outputs": [],
   "source": [
    "train_label = keras.utils.to_categorical(train_label, 2)\n",
    "test_label = keras.utils.to_categorical(test_label, 2)"
   ]
  },
  {
   "cell_type": "code",
   "execution_count": null,
   "metadata": {
    "ExecuteTime": {
     "end_time": "2018-12-16T13:54:50.272588Z",
     "start_time": "2018-12-16T13:54:49.455092Z"
    }
   },
   "outputs": [],
   "source": [
    "model = Sequential()\n",
    "#第一段\n",
    "model.add(Conv2D(filters=96, kernel_size=(11,11),\n",
    "                 strides=(4,4), padding='valid',\n",
    "                 input_shape=(resize,resize,3),\n",
    "                 activation='relu'))\n",
    "model.add(BatchNormalization())\n",
    "model.add(MaxPooling2D(pool_size=(3,3), \n",
    "                       strides=(2,2), \n",
    "                       padding='valid'))\n",
    "#第二段\n",
    "model.add(Conv2D(filters=256, kernel_size=(5,5), \n",
    "                 strides=(1,1), padding='same', \n",
    "                 activation='relu'))\n",
    "model.add(BatchNormalization())\n",
    "model.add(MaxPooling2D(pool_size=(3,3), \n",
    "                       strides=(2,2), \n",
    "                       padding='valid'))\n",
    "#第三段\n",
    "model.add(Conv2D(filters=384, kernel_size=(3,3), \n",
    "                 strides=(1,1), padding='same', \n",
    "                 activation='relu'))\n",
    "model.add(Conv2D(filters=384, kernel_size=(3,3), \n",
    "                 strides=(1,1), padding='same', \n",
    "                 activation='relu'))\n",
    "model.add(Conv2D(filters=256, kernel_size=(3,3), \n",
    "                 strides=(1,1), padding='same', \n",
    "                 activation='relu'))\n",
    "model.add(MaxPooling2D(pool_size=(3,3), \n",
    "                       strides=(2,2), padding='valid'))\n",
    "#第四段\n",
    "model.add(Flatten())\n",
    "model.add(Dense(4096, activation='relu'))\n",
    "model.add(Dropout(0.5))\n",
    "\n",
    "model.add(Dense(4096, activation='relu'))\n",
    "model.add(Dropout(0.5))\n",
    "\n",
    "model.add(Dense(1000, activation='relu'))\n",
    "model.add(Dropout(0.5))\n",
    "\n",
    "# Output Layer\n",
    "model.add(Dense(2))\n",
    "model.add(Activation('softmax'))\n",
    "\n",
    "model.compile(loss='categorical_crossentropy',\n",
    "              optimizer='sgd',\n",
    "              metrics=['accuracy'])"
   ]
  },
  {
   "cell_type": "code",
   "execution_count": null,
   "metadata": {
    "ExecuteTime": {
     "end_time": "2018-12-16T14:03:29.683506Z",
     "start_time": "2018-12-16T14:00:52.742165Z"
    }
   },
   "outputs": [],
   "source": [
    "model.fit(train_data, train_label,\n",
    "          batch_size = 64,\n",
    "          epochs = 50,\n",
    "          validation_split = 0.2,\n",
    "          shuffle = True)"
   ]
  },
  {
   "cell_type": "code",
   "execution_count": null,
   "metadata": {
    "ExecuteTime": {
     "end_time": "2018-12-16T14:03:33.283173Z",
     "start_time": "2018-12-16T14:03:31.838039Z"
    }
   },
   "outputs": [],
   "source": [
    "scores = model.evaluate(train_data, train_label, verbose=1)\n",
    "print(scores)"
   ]
  },
  {
   "cell_type": "code",
   "execution_count": null,
   "metadata": {
    "ExecuteTime": {
     "end_time": "2018-12-16T14:03:48.427195Z",
     "start_time": "2018-12-16T14:03:46.965106Z"
    }
   },
   "outputs": [],
   "source": [
    "scores = model.evaluate(test_data, test_label, verbose=1)\n",
    "print(scores)"
   ]
  },
  {
   "cell_type": "code",
   "execution_count": null,
   "metadata": {},
   "outputs": [],
   "source": []
  }
 ],
 "metadata": {
  "kernelspec": {
   "display_name": "Python 3",
   "language": "python",
   "name": "python3"
  },
  "language_info": {
   "codemirror_mode": {
    "name": "ipython",
    "version": 3
   },
   "file_extension": ".py",
   "mimetype": "text/x-python",
   "name": "python",
   "nbconvert_exporter": "python",
   "pygments_lexer": "ipython3",
   "version": "3.6.2"
  }
 },
 "nbformat": 4,
 "nbformat_minor": 2
}
