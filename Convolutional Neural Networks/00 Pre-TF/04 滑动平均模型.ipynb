{
 "cells": [
  {
   "cell_type": "code",
   "execution_count": 1,
   "metadata": {},
   "outputs": [],
   "source": [
    "import tensorflow as tf"
   ]
  },
  {
   "cell_type": "code",
   "execution_count": 2,
   "metadata": {},
   "outputs": [],
   "source": [
    "# 指定变量计算滑动平均\n",
    "v1 = tf.Variable(0, dtype=tf.float32)\n",
    "# 模拟神经网络的迭代次数，用于动态控制衰减率\n",
    "step = tf.Variable(0, trainable=False)\n",
    "\n",
    "# 定义滑动平均的类\n",
    "ema = tf.train.ExponentialMovingAverage(0.99, step)\n",
    "# 更新滑动平均的操作\n",
    "maintain_average_op = ema.apply([v1])"
   ]
  },
  {
   "cell_type": "code",
   "execution_count": 11,
   "metadata": {},
   "outputs": [
    {
     "name": "stdout",
     "output_type": "stream",
     "text": [
      "[0.0, 0.0]\n",
      "[5.0, 4.5]\n",
      "[10.0, 4.555]\n",
      "[10.0, 4.60945]\n"
     ]
    }
   ],
   "source": [
    "with tf.Session() as sess:\n",
    "    init_op = tf.global_variables_initializer()\n",
    "    sess.run(init_op)\n",
    "    \n",
    "    # 查看v1的值和v1的滑动平均\n",
    "    print(sess.run([v1, ema.average(v1)]))\n",
    "    # 更新v1的滑动平均值\n",
    "    sess.run(tf.assign(v1, 5))\n",
    "    sess.run(maintain_average_op)\n",
    "    print(sess.run([v1, ema.average(v1)]))\n",
    "    # v1 = 0.1 * 0 + 0.9 * 5 = 4.5\n",
    "    \n",
    "    sess.run(tf.assign(step, 10000))\n",
    "    # decay = (1 + 10000) / (10 + 10000) = 0.999\n",
    "    sess.run(tf.assign(v1, 10))\n",
    "    # variable = 10\n",
    "    sess.run(maintain_average_op)\n",
    "    # decay = min{0.99, 0.999} = 0.99\n",
    "    print(sess.run([v1, ema.average(v1)]))\n",
    "    # v1 = 4.5 * 0.99 + 10 * 0.01 = 4.555\n",
    "    \n",
    "    sess.run(maintain_average_op)\n",
    "    print(sess.run([v1, ema.average(v1)]))"
   ]
  }
 ],
 "metadata": {
  "kernelspec": {
   "display_name": "Python 3",
   "language": "python",
   "name": "python3"
  },
  "language_info": {
   "codemirror_mode": {
    "name": "ipython",
    "version": 3
   },
   "file_extension": ".py",
   "mimetype": "text/x-python",
   "name": "python",
   "nbconvert_exporter": "python",
   "pygments_lexer": "ipython3",
   "version": "3.6.6"
  }
 },
 "nbformat": 4,
 "nbformat_minor": 2
}
