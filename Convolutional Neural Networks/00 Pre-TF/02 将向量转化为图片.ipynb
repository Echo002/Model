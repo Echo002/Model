{
 "cells": [
  {
   "cell_type": "code",
   "execution_count": 56,
   "metadata": {},
   "outputs": [],
   "source": [
    "from tensorflow.examples.tutorials.mnist import input_data\n",
    "# import scipy.misc\n",
    "import os\n",
    "import matplotlib.pyplot as plt\n",
    "from PIL import Image"
   ]
  },
  {
   "cell_type": "code",
   "execution_count": 57,
   "metadata": {},
   "outputs": [
    {
     "name": "stdout",
     "output_type": "stream",
     "text": [
      "Extracting D:\\DataSet\\MNIST\\train-images-idx3-ubyte.gz\n",
      "Extracting D:\\DataSet\\MNIST\\train-labels-idx1-ubyte.gz\n",
      "Extracting D:\\DataSet\\MNIST\\t10k-images-idx3-ubyte.gz\n",
      "Extracting D:\\DataSet\\MNIST\\t10k-labels-idx1-ubyte.gz\n"
     ]
    }
   ],
   "source": [
    "mnist = input_data.read_data_sets('E:\\DataSet\\MNIST', one_hot=True)"
   ]
  },
  {
   "cell_type": "code",
   "execution_count": 58,
   "metadata": {},
   "outputs": [],
   "source": [
    "save_dir = 'D:\\DataSet\\MNIST\\pic'\n",
    "if os.path.exists(save_dir) is False:\n",
    "    os.makedirs(save_dir)"
   ]
  },
  {
   "cell_type": "code",
   "execution_count": 64,
   "metadata": {},
   "outputs": [
    {
     "data": {
      "image/png": "[encoded data removed]",
      "text/plain": [
       "<matplotlib.figure.Figure at 0x1c90118a2b0>"
      ]
     },
     "metadata": {
      "needs_background": "light"
     },
     "output_type": "display_data"
    }
   ],
   "source": [
    "# 保存前20张图片\n",
    "for i in range(5):\n",
    "    image_array = mnist.train.images[i, : ]\n",
    "    image_array = image_array.reshape(28, 28)\n",
    "    filename = save_dir + '\\mnist_train_%d.jpg' %i\n",
    "    # image_array.save(filename)\n",
    "    # scipy.misc.imsave(filenamele, image_array)\n",
    "    # scipy.misc.toimage(image_array, cmin = 0.0, cmax = 1.0).save(save_dir)\n",
    "    plt.imshow(image_array) #Needs to be in row,col order\n",
    "    plt.savefig(filename)"
   ]
  },
  {
   "cell_type": "code",
   "execution_count": 66,
   "metadata": {},
   "outputs": [
    {
     "name": "stdout",
     "output_type": "stream",
     "text": [
      "<class 'numpy.ndarray'>\n"
     ]
    }
   ],
   "source": [
    "image_array = mnist.train.images[i, : ]\n",
    "print(type(image_array))"
   ]
  },
  {
   "cell_type": "code",
   "execution_count": null,
   "metadata": {},
   "outputs": [],
   "source": []
  }
 ],
 "metadata": {
  "kernelspec": {
   "display_name": "Python 3",
   "language": "python",
   "name": "python3"
  },
  "language_info": {
   "codemirror_mode": {
    "name": "ipython",
    "version": 3
   },
   "file_extension": ".py",
   "mimetype": "text/x-python",
   "name": "python",
   "nbconvert_exporter": "python",
   "pygments_lexer": "ipython3",
   "version": "3.6.6"
  }
 },
 "nbformat": 4,
 "nbformat_minor": 2
}
