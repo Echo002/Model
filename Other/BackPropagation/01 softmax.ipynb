{
 "cells": [
  {
   "cell_type": "code",
   "execution_count": 1,
   "metadata": {},
   "outputs": [],
   "source": [
    "import numpy as np"
   ]
  },
  {
   "cell_type": "code",
   "execution_count": 2,
   "metadata": {},
   "outputs": [
    {
     "name": "stdout",
     "output_type": "stream",
     "text": [
      "[0.26894142 0.73105858]\n"
     ]
    }
   ],
   "source": [
    "def softmax(x):\n",
    "    x = np.exp(x) / np.sum(np.exp(x))\n",
    "    return x\n",
    "print(softmax([2, 3]))"
   ]
  },
  {
   "cell_type": "code",
   "execution_count": 3,
   "metadata": {},
   "outputs": [
    {
     "name": "stdout",
     "output_type": "stream",
     "text": [
      "[0.26894142 0.73105858]\n"
     ]
    }
   ],
   "source": [
    "# softmax(X + c) = softmax(X) X为矩阵 c为常数 证明略\n",
    "# 为了防止溢出，在计算之前先要减去X中的最大值\n",
    "def softmax(x):\n",
    "    x -= np.max(x)\n",
    "    x = np.exp(x) / np.sum(np.exp(x))\n",
    "    return x\n",
    "print(softmax([2, 3]))\n",
    "# 可以看到，结果依旧保持不变"
   ]
  },
  {
   "cell_type": "code",
   "execution_count": null,
   "metadata": {},
   "outputs": [],
   "source": [
    "# softmax激活层代码\n",
    "class Softmax(object):\n",
    "    def __init__(self):\n",
    "        pass\n",
    "    def forward(self, x):\n",
    "        self.out = np.copy(x)\n",
    "        self.out -= np.max(self.out)\n",
    "        self.out = np.exp(self.out)\n",
    "        s = np.sum(self.out)\n",
    "        self.out= self.out / s\n",
    "        return  self.out\n",
    "    def backward(self, eta):\n",
    "        dout=np.diag(self.out)-np.dot(self.out,self.out.T)\n",
    "        return np.dot(dout,eta)"
   ]
  }
 ],
 "metadata": {
  "kernelspec": {
   "display_name": "Python 3",
   "language": "python",
   "name": "python3"
  },
  "language_info": {
   "codemirror_mode": {
    "name": "ipython",
    "version": 3
   },
   "file_extension": ".py",
   "mimetype": "text/x-python",
   "name": "python",
   "nbconvert_exporter": "python",
   "pygments_lexer": "ipython3",
   "version": "3.6.6"
  }
 },
 "nbformat": 4,
 "nbformat_minor": 2
}
